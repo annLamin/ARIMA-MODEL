{
 "cells": [
  {
   "cell_type": "code",
   "execution_count": 1,
   "id": "5ccfc1bc",
   "metadata": {},
   "outputs": [],
   "source": [
    "import pandas as pd\n",
    "import numpy as np\n",
    "from pmdarima import auto_arima\n",
    "from matplotlib import pyplot as plt\n",
    "import warnings\n",
    "warnings.filterwarnings(\"ignore\")\n",
    "from statsmodels.tsa.arima.model import ARIMA\n",
    "from sklearn.model_selection import train_test_split\n",
    "from sklearn.metrics import mean_squared_error"
   ]
  },
  {
   "cell_type": "code",
   "execution_count": 2,
   "id": "393f9a21",
   "metadata": {},
   "outputs": [
    {
     "data": {
      "text/html": [
       "<div>\n",
       "<style scoped>\n",
       "    .dataframe tbody tr th:only-of-type {\n",
       "        vertical-align: middle;\n",
       "    }\n",
       "\n",
       "    .dataframe tbody tr th {\n",
       "        vertical-align: top;\n",
       "    }\n",
       "\n",
       "    .dataframe thead th {\n",
       "        text-align: right;\n",
       "    }\n",
       "</style>\n",
       "<table border=\"1\" class=\"dataframe\">\n",
       "  <thead>\n",
       "    <tr style=\"text-align: right;\">\n",
       "      <th></th>\n",
       "      <th>Nile</th>\n",
       "    </tr>\n",
       "    <tr>\n",
       "      <th>Date</th>\n",
       "      <th></th>\n",
       "    </tr>\n",
       "  </thead>\n",
       "  <tbody>\n",
       "    <tr>\n",
       "      <th>1871-01-01</th>\n",
       "      <td>1120</td>\n",
       "    </tr>\n",
       "    <tr>\n",
       "      <th>1872-01-01</th>\n",
       "      <td>1160</td>\n",
       "    </tr>\n",
       "    <tr>\n",
       "      <th>1873-01-01</th>\n",
       "      <td>963</td>\n",
       "    </tr>\n",
       "    <tr>\n",
       "      <th>1874-01-01</th>\n",
       "      <td>1210</td>\n",
       "    </tr>\n",
       "    <tr>\n",
       "      <th>1875-01-01</th>\n",
       "      <td>1160</td>\n",
       "    </tr>\n",
       "    <tr>\n",
       "      <th>1876-01-01</th>\n",
       "      <td>1160</td>\n",
       "    </tr>\n",
       "    <tr>\n",
       "      <th>1877-01-01</th>\n",
       "      <td>813</td>\n",
       "    </tr>\n",
       "    <tr>\n",
       "      <th>1878-01-01</th>\n",
       "      <td>1230</td>\n",
       "    </tr>\n",
       "    <tr>\n",
       "      <th>1879-01-01</th>\n",
       "      <td>1370</td>\n",
       "    </tr>\n",
       "    <tr>\n",
       "      <th>1880-01-01</th>\n",
       "      <td>1140</td>\n",
       "    </tr>\n",
       "  </tbody>\n",
       "</table>\n",
       "</div>"
      ],
      "text/plain": [
       "            Nile\n",
       "Date            \n",
       "1871-01-01  1120\n",
       "1872-01-01  1160\n",
       "1873-01-01   963\n",
       "1874-01-01  1210\n",
       "1875-01-01  1160\n",
       "1876-01-01  1160\n",
       "1877-01-01   813\n",
       "1878-01-01  1230\n",
       "1879-01-01  1370\n",
       "1880-01-01  1140"
      ]
     },
     "execution_count": 2,
     "metadata": {},
     "output_type": "execute_result"
    }
   ],
   "source": [
    "data = pd.read_csv(\"Nile.csv\", parse_dates = ['Date'], index_col = ['Date'])\n",
    "# data = pd.read_csv(\"Nile.csv\")\n",
    "data.head(10)"
   ]
  },
  {
   "cell_type": "code",
   "execution_count": 3,
   "id": "f5d62fd8",
   "metadata": {},
   "outputs": [
    {
     "data": {
      "text/html": [
       "<div>\n",
       "<style scoped>\n",
       "    .dataframe tbody tr th:only-of-type {\n",
       "        vertical-align: middle;\n",
       "    }\n",
       "\n",
       "    .dataframe tbody tr th {\n",
       "        vertical-align: top;\n",
       "    }\n",
       "\n",
       "    .dataframe thead th {\n",
       "        text-align: right;\n",
       "    }\n",
       "</style>\n",
       "<table border=\"1\" class=\"dataframe\">\n",
       "  <thead>\n",
       "    <tr style=\"text-align: right;\">\n",
       "      <th></th>\n",
       "      <th>CMS</th>\n",
       "    </tr>\n",
       "    <tr>\n",
       "      <th>Date</th>\n",
       "      <th></th>\n",
       "    </tr>\n",
       "  </thead>\n",
       "  <tbody>\n",
       "    <tr>\n",
       "      <th>1871-01-01</th>\n",
       "      <td>1120</td>\n",
       "    </tr>\n",
       "    <tr>\n",
       "      <th>1872-01-01</th>\n",
       "      <td>1160</td>\n",
       "    </tr>\n",
       "    <tr>\n",
       "      <th>1873-01-01</th>\n",
       "      <td>963</td>\n",
       "    </tr>\n",
       "    <tr>\n",
       "      <th>1874-01-01</th>\n",
       "      <td>1210</td>\n",
       "    </tr>\n",
       "    <tr>\n",
       "      <th>1875-01-01</th>\n",
       "      <td>1160</td>\n",
       "    </tr>\n",
       "    <tr>\n",
       "      <th>...</th>\n",
       "      <td>...</td>\n",
       "    </tr>\n",
       "    <tr>\n",
       "      <th>1966-01-01</th>\n",
       "      <td>746</td>\n",
       "    </tr>\n",
       "    <tr>\n",
       "      <th>1967-01-01</th>\n",
       "      <td>919</td>\n",
       "    </tr>\n",
       "    <tr>\n",
       "      <th>1968-01-01</th>\n",
       "      <td>718</td>\n",
       "    </tr>\n",
       "    <tr>\n",
       "      <th>1969-01-01</th>\n",
       "      <td>714</td>\n",
       "    </tr>\n",
       "    <tr>\n",
       "      <th>1970-01-01</th>\n",
       "      <td>740</td>\n",
       "    </tr>\n",
       "  </tbody>\n",
       "</table>\n",
       "<p>100 rows × 1 columns</p>\n",
       "</div>"
      ],
      "text/plain": [
       "             CMS\n",
       "Date            \n",
       "1871-01-01  1120\n",
       "1872-01-01  1160\n",
       "1873-01-01   963\n",
       "1874-01-01  1210\n",
       "1875-01-01  1160\n",
       "...          ...\n",
       "1966-01-01   746\n",
       "1967-01-01   919\n",
       "1968-01-01   718\n",
       "1969-01-01   714\n",
       "1970-01-01   740\n",
       "\n",
       "[100 rows x 1 columns]"
      ]
     },
     "execution_count": 3,
     "metadata": {},
     "output_type": "execute_result"
    }
   ],
   "source": [
    "data= data.rename(columns={'Nile':'CMS'})\n",
    "data"
   ]
  },
  {
   "cell_type": "code",
   "execution_count": 4,
   "id": "10d295e0",
   "metadata": {},
   "outputs": [
    {
     "data": {
      "text/html": [
       "<div>\n",
       "<style scoped>\n",
       "    .dataframe tbody tr th:only-of-type {\n",
       "        vertical-align: middle;\n",
       "    }\n",
       "\n",
       "    .dataframe tbody tr th {\n",
       "        vertical-align: top;\n",
       "    }\n",
       "\n",
       "    .dataframe thead th {\n",
       "        text-align: right;\n",
       "    }\n",
       "</style>\n",
       "<table border=\"1\" class=\"dataframe\">\n",
       "  <thead>\n",
       "    <tr style=\"text-align: right;\">\n",
       "      <th></th>\n",
       "      <th>CMS</th>\n",
       "    </tr>\n",
       "    <tr>\n",
       "      <th>Date</th>\n",
       "      <th></th>\n",
       "    </tr>\n",
       "  </thead>\n",
       "  <tbody>\n",
       "    <tr>\n",
       "      <th>1871-01-01</th>\n",
       "      <td>1120</td>\n",
       "    </tr>\n",
       "    <tr>\n",
       "      <th>1872-01-01</th>\n",
       "      <td>1160</td>\n",
       "    </tr>\n",
       "    <tr>\n",
       "      <th>1873-01-01</th>\n",
       "      <td>963</td>\n",
       "    </tr>\n",
       "    <tr>\n",
       "      <th>1874-01-01</th>\n",
       "      <td>1210</td>\n",
       "    </tr>\n",
       "    <tr>\n",
       "      <th>1875-01-01</th>\n",
       "      <td>1160</td>\n",
       "    </tr>\n",
       "    <tr>\n",
       "      <th>1876-01-01</th>\n",
       "      <td>1160</td>\n",
       "    </tr>\n",
       "    <tr>\n",
       "      <th>1877-01-01</th>\n",
       "      <td>813</td>\n",
       "    </tr>\n",
       "    <tr>\n",
       "      <th>1878-01-01</th>\n",
       "      <td>1230</td>\n",
       "    </tr>\n",
       "    <tr>\n",
       "      <th>1879-01-01</th>\n",
       "      <td>1370</td>\n",
       "    </tr>\n",
       "    <tr>\n",
       "      <th>1880-01-01</th>\n",
       "      <td>1140</td>\n",
       "    </tr>\n",
       "  </tbody>\n",
       "</table>\n",
       "</div>"
      ],
      "text/plain": [
       "             CMS\n",
       "Date            \n",
       "1871-01-01  1120\n",
       "1872-01-01  1160\n",
       "1873-01-01   963\n",
       "1874-01-01  1210\n",
       "1875-01-01  1160\n",
       "1876-01-01  1160\n",
       "1877-01-01   813\n",
       "1878-01-01  1230\n",
       "1879-01-01  1370\n",
       "1880-01-01  1140"
      ]
     },
     "execution_count": 4,
     "metadata": {},
     "output_type": "execute_result"
    }
   ],
   "source": [
    "data.head(10)"
   ]
  },
  {
   "cell_type": "code",
   "execution_count": 5,
   "id": "fa54b3b9",
   "metadata": {},
   "outputs": [
    {
     "data": {
      "text/html": [
       "<div>\n",
       "<style scoped>\n",
       "    .dataframe tbody tr th:only-of-type {\n",
       "        vertical-align: middle;\n",
       "    }\n",
       "\n",
       "    .dataframe tbody tr th {\n",
       "        vertical-align: top;\n",
       "    }\n",
       "\n",
       "    .dataframe thead th {\n",
       "        text-align: right;\n",
       "    }\n",
       "</style>\n",
       "<table border=\"1\" class=\"dataframe\">\n",
       "  <thead>\n",
       "    <tr style=\"text-align: right;\">\n",
       "      <th></th>\n",
       "      <th>CMS</th>\n",
       "    </tr>\n",
       "  </thead>\n",
       "  <tbody>\n",
       "    <tr>\n",
       "      <th>count</th>\n",
       "      <td>100.000000</td>\n",
       "    </tr>\n",
       "    <tr>\n",
       "      <th>mean</th>\n",
       "      <td>919.350000</td>\n",
       "    </tr>\n",
       "    <tr>\n",
       "      <th>std</th>\n",
       "      <td>169.227501</td>\n",
       "    </tr>\n",
       "    <tr>\n",
       "      <th>min</th>\n",
       "      <td>456.000000</td>\n",
       "    </tr>\n",
       "    <tr>\n",
       "      <th>25%</th>\n",
       "      <td>798.500000</td>\n",
       "    </tr>\n",
       "    <tr>\n",
       "      <th>50%</th>\n",
       "      <td>893.500000</td>\n",
       "    </tr>\n",
       "    <tr>\n",
       "      <th>75%</th>\n",
       "      <td>1032.500000</td>\n",
       "    </tr>\n",
       "    <tr>\n",
       "      <th>max</th>\n",
       "      <td>1370.000000</td>\n",
       "    </tr>\n",
       "  </tbody>\n",
       "</table>\n",
       "</div>"
      ],
      "text/plain": [
       "               CMS\n",
       "count   100.000000\n",
       "mean    919.350000\n",
       "std     169.227501\n",
       "min     456.000000\n",
       "25%     798.500000\n",
       "50%     893.500000\n",
       "75%    1032.500000\n",
       "max    1370.000000"
      ]
     },
     "execution_count": 5,
     "metadata": {},
     "output_type": "execute_result"
    }
   ],
   "source": [
    "data.describe() # the description of the data"
   ]
  },
  {
   "cell_type": "code",
   "execution_count": 6,
   "id": "7744d6cb",
   "metadata": {},
   "outputs": [
    {
     "data": {
      "text/plain": [
       "<AxesSubplot:xlabel='Date', ylabel='Cubicmeter per Second'>"
      ]
     },
     "execution_count": 6,
     "metadata": {},
     "output_type": "execute_result"
    },
    {
     "data": {
      "image/png": "[encoded data removed]",
      "text/plain": [
       "<Figure size 720x360 with 1 Axes>"
      ]
     },
     "metadata": {
      "needs_background": "light"
     },
     "output_type": "display_data"
    }
   ],
   "source": [
    "plt.xlabel('Date')\n",
    "plt.ylabel('Cubicmeter per Second')\n",
    "data[\"CMS\"].plot(figsize=(10,5))"
   ]
  },
  {
   "cell_type": "markdown",
   "id": "9fdfc049",
   "metadata": {},
   "source": [
    "#### I realized that there is a trend in our dataset, but no seasonality"
   ]
  },
  {
   "cell_type": "code",
   "execution_count": 7,
   "id": "e22750ae",
   "metadata": {},
   "outputs": [
    {
     "name": "stdout",
     "output_type": "stream",
     "text": [
      "<class 'pandas.core.frame.DataFrame'>\n",
      "DatetimeIndex: 100 entries, 1871-01-01 to 1970-01-01\n",
      "Data columns (total 1 columns):\n",
      " #   Column  Non-Null Count  Dtype\n",
      "---  ------  --------------  -----\n",
      " 0   CMS     100 non-null    int64\n",
      "dtypes: int64(1)\n",
      "memory usage: 1.6 KB\n"
     ]
    }
   ],
   "source": [
    "data.info()"
   ]
  },
  {
   "cell_type": "code",
   "execution_count": 8,
   "id": "e961253d",
   "metadata": {},
   "outputs": [
    {
     "data": {
      "text/html": [
       "<div>\n",
       "<style scoped>\n",
       "    .dataframe tbody tr th:only-of-type {\n",
       "        vertical-align: middle;\n",
       "    }\n",
       "\n",
       "    .dataframe tbody tr th {\n",
       "        vertical-align: top;\n",
       "    }\n",
       "\n",
       "    .dataframe thead th {\n",
       "        text-align: right;\n",
       "    }\n",
       "</style>\n",
       "<table border=\"1\" class=\"dataframe\">\n",
       "  <thead>\n",
       "    <tr style=\"text-align: right;\">\n",
       "      <th></th>\n",
       "      <th>CMS</th>\n",
       "    </tr>\n",
       "    <tr>\n",
       "      <th>Date</th>\n",
       "      <th></th>\n",
       "    </tr>\n",
       "  </thead>\n",
       "  <tbody>\n",
       "    <tr>\n",
       "      <th>1871-01-01</th>\n",
       "      <td>NaN</td>\n",
       "    </tr>\n",
       "    <tr>\n",
       "      <th>1872-01-01</th>\n",
       "      <td>NaN</td>\n",
       "    </tr>\n",
       "    <tr>\n",
       "      <th>1873-01-01</th>\n",
       "      <td>NaN</td>\n",
       "    </tr>\n",
       "    <tr>\n",
       "      <th>1874-01-01</th>\n",
       "      <td>NaN</td>\n",
       "    </tr>\n",
       "    <tr>\n",
       "      <th>1875-01-01</th>\n",
       "      <td>1122.6</td>\n",
       "    </tr>\n",
       "    <tr>\n",
       "      <th>...</th>\n",
       "      <td>...</td>\n",
       "    </tr>\n",
       "    <tr>\n",
       "      <th>1966-01-01</th>\n",
       "      <td>927.0</td>\n",
       "    </tr>\n",
       "    <tr>\n",
       "      <th>1967-01-01</th>\n",
       "      <td>929.6</td>\n",
       "    </tr>\n",
       "    <tr>\n",
       "      <th>1968-01-01</th>\n",
       "      <td>893.0</td>\n",
       "    </tr>\n",
       "    <tr>\n",
       "      <th>1969-01-01</th>\n",
       "      <td>801.8</td>\n",
       "    </tr>\n",
       "    <tr>\n",
       "      <th>1970-01-01</th>\n",
       "      <td>767.4</td>\n",
       "    </tr>\n",
       "  </tbody>\n",
       "</table>\n",
       "<p>100 rows × 1 columns</p>\n",
       "</div>"
      ],
      "text/plain": [
       "               CMS\n",
       "Date              \n",
       "1871-01-01     NaN\n",
       "1872-01-01     NaN\n",
       "1873-01-01     NaN\n",
       "1874-01-01     NaN\n",
       "1875-01-01  1122.6\n",
       "...            ...\n",
       "1966-01-01   927.0\n",
       "1967-01-01   929.6\n",
       "1968-01-01   893.0\n",
       "1969-01-01   801.8\n",
       "1970-01-01   767.4\n",
       "\n",
       "[100 rows x 1 columns]"
      ]
     },
     "execution_count": 8,
     "metadata": {},
     "output_type": "execute_result"
    }
   ],
   "source": [
    "# We want to have the rolling mean\n",
    "rollmean = data.rolling(window=5).mean()\n",
    "rollstd = data.rolling(window=5).std()\n",
    "rollmean"
   ]
  },
  {
   "cell_type": "code",
   "execution_count": 9,
   "id": "968d25d5",
   "metadata": {},
   "outputs": [
    {
     "data": {
      "image/png": "[encoded data removed]",
      "text/plain": [
       "<Figure size 720x360 with 1 Axes>"
      ]
     },
     "metadata": {
      "needs_background": "light"
     },
     "output_type": "display_data"
    }
   ],
   "source": [
    "plt.gcf().set_size_inches(10, 5) # setting the size of the graph\n",
    "original = plt.plot(data, label = \"Original Data\") \n",
    "mean = plt.plot(rollmean, label= \"Rolling Mean\")\n",
    "standard_deviation = plt.plot(rollstd, label= \"Rolling Standard Deviation\")\n",
    "plt.legend(loc='best')\n",
    "plt.show()"
   ]
  },
  {
   "cell_type": "code",
   "execution_count": 10,
   "id": "d2081096",
   "metadata": {},
   "outputs": [],
   "source": [
    "import statsmodels.api as sm"
   ]
  },
  {
   "cell_type": "code",
   "execution_count": 11,
   "id": "03af9c40",
   "metadata": {},
   "outputs": [
    {
     "data": {
      "image/png": "[encoded data removed]",
      "text/plain": [
       "<Figure size 432x288 with 4 Axes>"
      ]
     },
     "metadata": {
      "needs_background": "light"
     },
     "output_type": "display_data"
    }
   ],
   "source": [
    "decomposition = sm.tsa.seasonal_decompose(data, model='additive')\n",
    "fig = decomposition.plot()\n",
    "plt.show()"
   ]
  },
  {
   "cell_type": "markdown",
   "id": "b4a62804",
   "metadata": {},
   "source": [
    "### In the graph above we realized that there is no trend or seasonality."
   ]
  },
  {
   "cell_type": "code",
   "execution_count": 12,
   "id": "a0eb733f",
   "metadata": {},
   "outputs": [],
   "source": [
    "### Testing for stationarity"
   ]
  },
  {
   "cell_type": "code",
   "execution_count": 13,
   "id": "bc9b7487",
   "metadata": {},
   "outputs": [],
   "source": [
    "def test_stationarity(gdpseries):\n",
    "    from statsmodels.tsa.stattools import adfuller\n",
    "    dftest = adfuller(gdpseries)\n",
    "    dfoutput = pd.Series(dftest[0:4], index=['The test statistics', \"The P-Value\", \"Number of Lags used\", \"Number of Observations\"])\n",
    "    print(dfoutput)\n"
   ]
  },
  {
   "cell_type": "code",
   "execution_count": 14,
   "id": "613e6b76",
   "metadata": {},
   "outputs": [
    {
     "name": "stdout",
     "output_type": "stream",
     "text": [
      "The test statistics       -4.048705\n",
      "The P-Value                0.001176\n",
      "Number of Lags used        1.000000\n",
      "Number of Observations    98.000000\n",
      "dtype: float64\n"
     ]
    }
   ],
   "source": [
    "test_stationarity(data)"
   ]
  },
  {
   "cell_type": "code",
   "execution_count": 15,
   "id": "c6c9bb33",
   "metadata": {},
   "outputs": [
    {
     "data": {
      "image/png": "[encoded data removed]",
      "text/plain": [
       "<Figure size 432x288 with 1 Axes>"
      ]
     },
     "metadata": {
      "needs_background": "light"
     },
     "output_type": "display_data"
    }
   ],
   "source": [
    "from statsmodels.graphics.tsaplots import plot_acf, plot_pacf\n",
    "lag_acf = plot_acf(data)\n",
    "lag_acf.savefig('Autocorrelation.jpg')"
   ]
  },
  {
   "cell_type": "code",
   "execution_count": 16,
   "id": "5769f137",
   "metadata": {},
   "outputs": [
    {
     "data": {
      "image/png": "[encoded data removed]",
      "text/plain": [
       "<Figure size 432x288 with 1 Axes>"
      ]
     },
     "metadata": {
      "needs_background": "light"
     },
     "output_type": "display_data"
    }
   ],
   "source": [
    "lag_pacf = plot_pacf(data)\n",
    "lag_pacf.savefig('Partial_Autocorrelation.jpg')"
   ]
  },
  {
   "cell_type": "markdown",
   "id": "55286eb7",
   "metadata": {},
   "source": [
    "#### Train Test Split"
   ]
  },
  {
   "cell_type": "code",
   "execution_count": 17,
   "id": "de0a46f0",
   "metadata": {},
   "outputs": [
    {
     "data": {
      "text/plain": [
       "100"
      ]
     },
     "execution_count": 17,
     "metadata": {},
     "output_type": "execute_result"
    }
   ],
   "source": [
    "len(data)"
   ]
  },
  {
   "cell_type": "code",
   "execution_count": 18,
   "id": "bbd0ef3b",
   "metadata": {},
   "outputs": [],
   "source": [
    "train, test = train_test_split(data, test_size=0.2, shuffle=False)"
   ]
  },
  {
   "cell_type": "code",
   "execution_count": 19,
   "id": "996d7de3",
   "metadata": {},
   "outputs": [],
   "source": [
    "# train = data[:80]\n",
    "# test = data[80:]"
   ]
  },
  {
   "cell_type": "markdown",
   "id": "7d7e19a3",
   "metadata": {},
   "source": [
    "### Method 1: Using pmd arima"
   ]
  },
  {
   "cell_type": "code",
   "execution_count": 20,
   "id": "0e07e4b1",
   "metadata": {},
   "outputs": [
    {
     "name": "stdout",
     "output_type": "stream",
     "text": [
      "Performing stepwise search to minimize aic\n",
      " ARIMA(2,1,2)(0,0,1)[12] intercept   : AIC=inf, Time=0.67 sec\n",
      " ARIMA(0,1,0)(0,0,0)[12] intercept   : AIC=1040.313, Time=0.02 sec\n",
      " ARIMA(1,1,0)(1,0,0)[12] intercept   : AIC=1030.999, Time=0.18 sec\n",
      " ARIMA(0,1,1)(0,0,1)[12] intercept   : AIC=1021.194, Time=0.29 sec\n",
      " ARIMA(0,1,0)(0,0,0)[12]             : AIC=1038.336, Time=0.02 sec\n",
      " ARIMA(0,1,1)(0,0,0)[12] intercept   : AIC=1019.445, Time=0.12 sec\n",
      " ARIMA(0,1,1)(1,0,0)[12] intercept   : AIC=1021.209, Time=0.21 sec\n",
      " ARIMA(0,1,1)(1,0,1)[12] intercept   : AIC=1023.054, Time=0.23 sec\n",
      " ARIMA(1,1,1)(0,0,0)[12] intercept   : AIC=inf, Time=0.23 sec\n",
      " ARIMA(0,1,2)(0,0,0)[12] intercept   : AIC=1017.475, Time=0.09 sec\n",
      " ARIMA(0,1,2)(1,0,0)[12] intercept   : AIC=1019.442, Time=0.17 sec\n",
      " ARIMA(0,1,2)(0,0,1)[12] intercept   : AIC=1019.439, Time=0.19 sec\n",
      " ARIMA(0,1,2)(1,0,1)[12] intercept   : AIC=1021.386, Time=0.32 sec\n",
      " ARIMA(1,1,2)(0,0,0)[12] intercept   : AIC=inf, Time=0.17 sec\n",
      " ARIMA(0,1,3)(0,0,0)[12] intercept   : AIC=inf, Time=0.24 sec\n",
      " ARIMA(1,1,3)(0,0,0)[12] intercept   : AIC=inf, Time=0.31 sec\n",
      " ARIMA(0,1,2)(0,0,0)[12]             : AIC=1017.229, Time=0.07 sec\n",
      " ARIMA(0,1,2)(1,0,0)[12]             : AIC=1019.171, Time=0.17 sec\n",
      " ARIMA(0,1,2)(0,0,1)[12]             : AIC=1019.169, Time=0.14 sec\n",
      " ARIMA(0,1,2)(1,0,1)[12]             : AIC=1021.145, Time=0.32 sec\n",
      " ARIMA(0,1,1)(0,0,0)[12]             : AIC=1018.050, Time=0.04 sec\n",
      " ARIMA(1,1,2)(0,0,0)[12]             : AIC=1018.338, Time=0.12 sec\n",
      " ARIMA(0,1,3)(0,0,0)[12]             : AIC=1018.307, Time=0.11 sec\n",
      " ARIMA(1,1,1)(0,0,0)[12]             : AIC=1016.541, Time=0.09 sec\n",
      " ARIMA(1,1,1)(1,0,0)[12]             : AIC=1018.469, Time=0.17 sec\n",
      " ARIMA(1,1,1)(0,0,1)[12]             : AIC=1018.468, Time=0.19 sec\n",
      " ARIMA(1,1,1)(1,0,1)[12]             : AIC=1020.450, Time=0.40 sec\n",
      " ARIMA(1,1,0)(0,0,0)[12]             : AIC=1027.335, Time=0.04 sec\n",
      " ARIMA(2,1,1)(0,0,0)[12]             : AIC=1018.279, Time=0.13 sec\n",
      " ARIMA(2,1,0)(0,0,0)[12]             : AIC=1025.745, Time=0.04 sec\n",
      " ARIMA(2,1,2)(0,0,0)[12]             : AIC=1020.261, Time=0.17 sec\n",
      "\n",
      "Best model:  ARIMA(1,1,1)(0,0,0)[12]          \n",
      "Total fit time: 5.753 seconds\n"
     ]
    },
    {
     "data": {
      "text/plain": [
       "ARIMA(order=(1, 1, 1), scoring_args={}, seasonal_order=(0, 0, 0, 12),\n",
       "      suppress_warnings=True, with_intercept=False)"
      ]
     },
     "execution_count": 20,
     "metadata": {},
     "output_type": "execute_result"
    }
   ],
   "source": [
    "import pmdarima\n",
    "from pmdarima import auto_arima\n",
    "auto_arima(train, m=12, start_P=0, seasonal=True, d=1, trace= True, error_action='ignore', suppress_warnings=True, stepwise=True)"
   ]
  },
  {
   "cell_type": "code",
   "execution_count": 23,
   "id": "6c5cb0b9",
   "metadata": {},
   "outputs": [
    {
     "name": "stdout",
     "output_type": "stream",
     "text": [
      "125.06196109597067\n"
     ]
    }
   ],
   "source": [
    "# Using the recommended model to see its output\n",
    "model_arima = ARIMA(train, order=(1,1,1))\n",
    "\n",
    "model_arima_fit = model_arima.fit()\n",
    "pred = model_arima_fit.predict(start= len(train), end=len(data)-1)\n",
    "error = np.sqrt(mean_squared_error(test,pred))\n",
    "print(error)"
   ]
  },
  {
   "cell_type": "markdown",
   "id": "c97e0120",
   "metadata": {},
   "source": [
    "### Method 2: Using forloop"
   ]
  },
  {
   "cell_type": "code",
   "execution_count": 24,
   "id": "fc7783cd",
   "metadata": {},
   "outputs": [],
   "source": [
    "import itertools"
   ]
  },
  {
   "cell_type": "code",
   "execution_count": 25,
   "id": "2c78941a",
   "metadata": {},
   "outputs": [],
   "source": [
    "p = range(0,8)\n",
    "q = range(0,8)\n",
    "d = range(0,2)"
   ]
  },
  {
   "cell_type": "code",
   "execution_count": 26,
   "id": "232c1e15",
   "metadata": {},
   "outputs": [
    {
     "data": {
      "text/plain": [
       "[(0, 0, 0),\n",
       " (0, 0, 1),\n",
       " (0, 0, 2),\n",
       " (0, 0, 3),\n",
       " (0, 0, 4),\n",
       " (0, 0, 5),\n",
       " (0, 0, 6),\n",
       " (0, 0, 7),\n",
       " (0, 1, 0),\n",
       " (0, 1, 1),\n",
       " (0, 1, 2),\n",
       " (0, 1, 3),\n",
       " (0, 1, 4),\n",
       " (0, 1, 5),\n",
       " (0, 1, 6),\n",
       " (0, 1, 7),\n",
       " (1, 0, 0),\n",
       " (1, 0, 1),\n",
       " (1, 0, 2),\n",
       " (1, 0, 3),\n",
       " (1, 0, 4),\n",
       " (1, 0, 5),\n",
       " (1, 0, 6),\n",
       " (1, 0, 7),\n",
       " (1, 1, 0),\n",
       " (1, 1, 1),\n",
       " (1, 1, 2),\n",
       " (1, 1, 3),\n",
       " (1, 1, 4),\n",
       " (1, 1, 5),\n",
       " (1, 1, 6),\n",
       " (1, 1, 7),\n",
       " (2, 0, 0),\n",
       " (2, 0, 1),\n",
       " (2, 0, 2),\n",
       " (2, 0, 3),\n",
       " (2, 0, 4),\n",
       " (2, 0, 5),\n",
       " (2, 0, 6),\n",
       " (2, 0, 7),\n",
       " (2, 1, 0),\n",
       " (2, 1, 1),\n",
       " (2, 1, 2),\n",
       " (2, 1, 3),\n",
       " (2, 1, 4),\n",
       " (2, 1, 5),\n",
       " (2, 1, 6),\n",
       " (2, 1, 7),\n",
       " (3, 0, 0),\n",
       " (3, 0, 1),\n",
       " (3, 0, 2),\n",
       " (3, 0, 3),\n",
       " (3, 0, 4),\n",
       " (3, 0, 5),\n",
       " (3, 0, 6),\n",
       " (3, 0, 7),\n",
       " (3, 1, 0),\n",
       " (3, 1, 1),\n",
       " (3, 1, 2),\n",
       " (3, 1, 3),\n",
       " (3, 1, 4),\n",
       " (3, 1, 5),\n",
       " (3, 1, 6),\n",
       " (3, 1, 7),\n",
       " (4, 0, 0),\n",
       " (4, 0, 1),\n",
       " (4, 0, 2),\n",
       " (4, 0, 3),\n",
       " (4, 0, 4),\n",
       " (4, 0, 5),\n",
       " (4, 0, 6),\n",
       " (4, 0, 7),\n",
       " (4, 1, 0),\n",
       " (4, 1, 1),\n",
       " (4, 1, 2),\n",
       " (4, 1, 3),\n",
       " (4, 1, 4),\n",
       " (4, 1, 5),\n",
       " (4, 1, 6),\n",
       " (4, 1, 7),\n",
       " (5, 0, 0),\n",
       " (5, 0, 1),\n",
       " (5, 0, 2),\n",
       " (5, 0, 3),\n",
       " (5, 0, 4),\n",
       " (5, 0, 5),\n",
       " (5, 0, 6),\n",
       " (5, 0, 7),\n",
       " (5, 1, 0),\n",
       " (5, 1, 1),\n",
       " (5, 1, 2),\n",
       " (5, 1, 3),\n",
       " (5, 1, 4),\n",
       " (5, 1, 5),\n",
       " (5, 1, 6),\n",
       " (5, 1, 7),\n",
       " (6, 0, 0),\n",
       " (6, 0, 1),\n",
       " (6, 0, 2),\n",
       " (6, 0, 3),\n",
       " (6, 0, 4),\n",
       " (6, 0, 5),\n",
       " (6, 0, 6),\n",
       " (6, 0, 7),\n",
       " (6, 1, 0),\n",
       " (6, 1, 1),\n",
       " (6, 1, 2),\n",
       " (6, 1, 3),\n",
       " (6, 1, 4),\n",
       " (6, 1, 5),\n",
       " (6, 1, 6),\n",
       " (6, 1, 7),\n",
       " (7, 0, 0),\n",
       " (7, 0, 1),\n",
       " (7, 0, 2),\n",
       " (7, 0, 3),\n",
       " (7, 0, 4),\n",
       " (7, 0, 5),\n",
       " (7, 0, 6),\n",
       " (7, 0, 7),\n",
       " (7, 1, 0),\n",
       " (7, 1, 1),\n",
       " (7, 1, 2),\n",
       " (7, 1, 3),\n",
       " (7, 1, 4),\n",
       " (7, 1, 5),\n",
       " (7, 1, 6),\n",
       " (7, 1, 7)]"
      ]
     },
     "execution_count": 26,
     "metadata": {},
     "output_type": "execute_result"
    }
   ],
   "source": [
    "# Creating a pdq combiation\n",
    "pdq_combination = list(itertools.product(p,d,q))\n",
    "pdq_combination"
   ]
  },
  {
   "cell_type": "code",
   "execution_count": 27,
   "id": "6c8f73c3",
   "metadata": {},
   "outputs": [
    {
     "data": {
      "text/plain": [
       "128"
      ]
     },
     "execution_count": 27,
     "metadata": {},
     "output_type": "execute_result"
    }
   ],
   "source": [
    "# we have 128 combination\n",
    "len(pdq_combination)"
   ]
  },
  {
   "cell_type": "code",
   "execution_count": 28,
   "id": "a6c08160",
   "metadata": {},
   "outputs": [],
   "source": [
    "rmse = []\n",
    "order1 = []\n"
   ]
  },
  {
   "cell_type": "code",
   "execution_count": 29,
   "id": "cf8ebb1f",
   "metadata": {},
   "outputs": [],
   "source": [
    "# Using the combinations created above to train the model and see which one has the lowest RMSE\n",
    "for val in pdq_combination:\n",
    "    try:\n",
    "        model = ARIMA(train,order=val).fit()\n",
    "        pred = model.predict(start= len(train), end=len(data)-1)\n",
    "        error = np.sqrt(mean_squared_error(test,pred)) \n",
    "        order1.append(val)\n",
    "        rmse.append(error)\n",
    "    except:\n",
    "        continue"
   ]
  },
  {
   "cell_type": "code",
   "execution_count": 30,
   "id": "6923eaf9",
   "metadata": {},
   "outputs": [
    {
     "data": {
      "text/html": [
       "<div>\n",
       "<style scoped>\n",
       "    .dataframe tbody tr th:only-of-type {\n",
       "        vertical-align: middle;\n",
       "    }\n",
       "\n",
       "    .dataframe tbody tr th {\n",
       "        vertical-align: top;\n",
       "    }\n",
       "\n",
       "    .dataframe thead th {\n",
       "        text-align: right;\n",
       "    }\n",
       "</style>\n",
       "<table border=\"1\" class=\"dataframe\">\n",
       "  <thead>\n",
       "    <tr style=\"text-align: right;\">\n",
       "      <th></th>\n",
       "      <th>RMSE</th>\n",
       "    </tr>\n",
       "  </thead>\n",
       "  <tbody>\n",
       "    <tr>\n",
       "      <th>(0, 0, 0)</th>\n",
       "      <td>133.313212</td>\n",
       "    </tr>\n",
       "    <tr>\n",
       "      <th>(0, 0, 1)</th>\n",
       "      <td>133.102648</td>\n",
       "    </tr>\n",
       "    <tr>\n",
       "      <th>(0, 0, 2)</th>\n",
       "      <td>132.207059</td>\n",
       "    </tr>\n",
       "    <tr>\n",
       "      <th>(0, 0, 3)</th>\n",
       "      <td>131.925323</td>\n",
       "    </tr>\n",
       "    <tr>\n",
       "      <th>(0, 0, 4)</th>\n",
       "      <td>128.833656</td>\n",
       "    </tr>\n",
       "    <tr>\n",
       "      <th>...</th>\n",
       "      <td>...</td>\n",
       "    </tr>\n",
       "    <tr>\n",
       "      <th>(7, 1, 3)</th>\n",
       "      <td>117.596471</td>\n",
       "    </tr>\n",
       "    <tr>\n",
       "      <th>(7, 1, 4)</th>\n",
       "      <td>126.447151</td>\n",
       "    </tr>\n",
       "    <tr>\n",
       "      <th>(7, 1, 5)</th>\n",
       "      <td>118.056340</td>\n",
       "    </tr>\n",
       "    <tr>\n",
       "      <th>(7, 1, 6)</th>\n",
       "      <td>125.085532</td>\n",
       "    </tr>\n",
       "    <tr>\n",
       "      <th>(7, 1, 7)</th>\n",
       "      <td>125.026397</td>\n",
       "    </tr>\n",
       "  </tbody>\n",
       "</table>\n",
       "<p>128 rows × 1 columns</p>\n",
       "</div>"
      ],
      "text/plain": [
       "                 RMSE\n",
       "(0, 0, 0)  133.313212\n",
       "(0, 0, 1)  133.102648\n",
       "(0, 0, 2)  132.207059\n",
       "(0, 0, 3)  131.925323\n",
       "(0, 0, 4)  128.833656\n",
       "...               ...\n",
       "(7, 1, 3)  117.596471\n",
       "(7, 1, 4)  126.447151\n",
       "(7, 1, 5)  118.056340\n",
       "(7, 1, 6)  125.085532\n",
       "(7, 1, 7)  125.026397\n",
       "\n",
       "[128 rows x 1 columns]"
      ]
     },
     "execution_count": 30,
     "metadata": {},
     "output_type": "execute_result"
    }
   ],
   "source": [
    "results = pd.DataFrame(index = order1, data= rmse, columns=['RMSE'])\n",
    "results"
   ]
  },
  {
   "cell_type": "markdown",
   "id": "e63613bd",
   "metadata": {},
   "source": [
    "### Sorting the values in descending order to check for the lowest RMSE"
   ]
  },
  {
   "cell_type": "code",
   "execution_count": 31,
   "id": "8f339099",
   "metadata": {},
   "outputs": [
    {
     "data": {
      "text/html": [
       "<div>\n",
       "<style scoped>\n",
       "    .dataframe tbody tr th:only-of-type {\n",
       "        vertical-align: middle;\n",
       "    }\n",
       "\n",
       "    .dataframe tbody tr th {\n",
       "        vertical-align: top;\n",
       "    }\n",
       "\n",
       "    .dataframe thead th {\n",
       "        text-align: right;\n",
       "    }\n",
       "</style>\n",
       "<table border=\"1\" class=\"dataframe\">\n",
       "  <thead>\n",
       "    <tr style=\"text-align: right;\">\n",
       "      <th></th>\n",
       "      <th>RMSE</th>\n",
       "    </tr>\n",
       "  </thead>\n",
       "  <tbody>\n",
       "    <tr>\n",
       "      <th>(6, 0, 5)</th>\n",
       "      <td>115.531119</td>\n",
       "    </tr>\n",
       "    <tr>\n",
       "      <th>(7, 1, 3)</th>\n",
       "      <td>117.596471</td>\n",
       "    </tr>\n",
       "    <tr>\n",
       "      <th>(6, 1, 5)</th>\n",
       "      <td>117.891879</td>\n",
       "    </tr>\n",
       "    <tr>\n",
       "      <th>(5, 1, 5)</th>\n",
       "      <td>118.034674</td>\n",
       "    </tr>\n",
       "    <tr>\n",
       "      <th>(7, 1, 5)</th>\n",
       "      <td>118.056340</td>\n",
       "    </tr>\n",
       "    <tr>\n",
       "      <th>...</th>\n",
       "      <td>...</td>\n",
       "    </tr>\n",
       "    <tr>\n",
       "      <th>(3, 1, 5)</th>\n",
       "      <td>134.182612</td>\n",
       "    </tr>\n",
       "    <tr>\n",
       "      <th>(4, 0, 3)</th>\n",
       "      <td>134.352258</td>\n",
       "    </tr>\n",
       "    <tr>\n",
       "      <th>(3, 1, 4)</th>\n",
       "      <td>134.415191</td>\n",
       "    </tr>\n",
       "    <tr>\n",
       "      <th>(2, 1, 5)</th>\n",
       "      <td>134.926507</td>\n",
       "    </tr>\n",
       "    <tr>\n",
       "      <th>(7, 0, 4)</th>\n",
       "      <td>140.069122</td>\n",
       "    </tr>\n",
       "  </tbody>\n",
       "</table>\n",
       "<p>128 rows × 1 columns</p>\n",
       "</div>"
      ],
      "text/plain": [
       "                 RMSE\n",
       "(6, 0, 5)  115.531119\n",
       "(7, 1, 3)  117.596471\n",
       "(6, 1, 5)  117.891879\n",
       "(5, 1, 5)  118.034674\n",
       "(7, 1, 5)  118.056340\n",
       "...               ...\n",
       "(3, 1, 5)  134.182612\n",
       "(4, 0, 3)  134.352258\n",
       "(3, 1, 4)  134.415191\n",
       "(2, 1, 5)  134.926507\n",
       "(7, 0, 4)  140.069122\n",
       "\n",
       "[128 rows x 1 columns]"
      ]
     },
     "execution_count": 31,
     "metadata": {},
     "output_type": "execute_result"
    }
   ],
   "source": [
    "results.sort_values(by=['RMSE']) # ORDER (6,0,5) is havng the best pdq combination"
   ]
  },
  {
   "cell_type": "code",
   "execution_count": 32,
   "id": "31eba8f3",
   "metadata": {},
   "outputs": [],
   "source": [
    "results.to_csv('ARIMA-RESULTS.csv') ## saving the RMSE to a file"
   ]
  },
  {
   "cell_type": "markdown",
   "id": "5d3d9f1b",
   "metadata": {},
   "source": [
    "### Building the ARIMA model "
   ]
  },
  {
   "cell_type": "code",
   "execution_count": 33,
   "id": "c6821ceb",
   "metadata": {},
   "outputs": [
    {
     "data": {
      "text/plain": [
       "1951-01-01    876.675312\n",
       "1952-01-01    803.660388\n",
       "1953-01-01    825.185514\n",
       "1954-01-01    940.693894\n",
       "1955-01-01    874.856155\n",
       "1956-01-01    875.945581\n",
       "1957-01-01    820.902897\n",
       "1958-01-01    890.089316\n",
       "1959-01-01    913.728362\n",
       "1960-01-01    870.254825\n",
       "1961-01-01    874.808920\n",
       "1962-01-01    850.916774\n",
       "1963-01-01    914.378175\n",
       "1964-01-01    889.807570\n",
       "1965-01-01    880.285800\n",
       "1966-01-01    876.767429\n",
       "1967-01-01    879.798777\n",
       "1968-01-01    913.615983\n",
       "1969-01-01    881.841881\n",
       "1970-01-01    891.428465\n",
       "Freq: AS-JAN, Name: predicted_mean, dtype: float64"
      ]
     },
     "execution_count": 33,
     "metadata": {},
     "output_type": "execute_result"
    }
   ],
   "source": [
    "from statsmodels.tsa.arima.model import ARIMA\n",
    "from sklearn.model_selection import train_test_split\n",
    "\n",
    "# train, test = train_test_split(data, test_size=0.2, shuffle=False)\n",
    "\n",
    "model_arima = ARIMA(train, order=(6,0,5))\n",
    "\n",
    "model_arima_fit = model_arima.fit()\n",
    "\n",
    "prediction = model_arima_fit.predict(start='1951-01-01', end = '1970-01-01')\n",
    "\n",
    "prediction"
   ]
  },
  {
   "cell_type": "code",
   "execution_count": 34,
   "id": "86d0e2e9",
   "metadata": {},
   "outputs": [
    {
     "data": {
      "text/plain": [
       "<AxesSubplot:xlabel='Date'>"
      ]
     },
     "execution_count": 34,
     "metadata": {},
     "output_type": "execute_result"
    },
    {
     "data": {
      "image/png": "[encoded data removed]",
      "text/plain": [
       "<Figure size 864x360 with 1 Axes>"
      ]
     },
     "metadata": {
      "needs_background": "light"
     },
     "output_type": "display_data"
    }
   ],
   "source": [
    "# Graphical representation od the prediction against the actual values\n",
    "test.plot(legend=True, figsize=(12,5))\n",
    "prediction.plot(legend=True)"
   ]
  },
  {
   "cell_type": "markdown",
   "id": "19b2a9cf",
   "metadata": {},
   "source": [
    "### Future forecasting"
   ]
  },
  {
   "cell_type": "code",
   "execution_count": 35,
   "id": "256eda23",
   "metadata": {},
   "outputs": [
    {
     "name": "stdout",
     "output_type": "stream",
     "text": [
      "1971-01-01    882.105565\n",
      "1972-01-01    899.224128\n",
      "1973-01-01    904.768774\n",
      "1974-01-01    886.628628\n",
      "1975-01-01    898.188646\n",
      "1976-01-01    890.222200\n",
      "1977-01-01    908.132114\n",
      "1978-01-01    898.610479\n",
      "1979-01-01    896.103536\n",
      "1980-01-01    901.292082\n",
      "Freq: AS-JAN, Name: ARIMA PREDICTION, dtype: float64\n"
     ]
    }
   ],
   "source": [
    "Feature_prediction = model_arima_fit.predict(start='1971-01-01', end='1980-01-01', type='level').rename('ARIMA PREDICTION')\n",
    "print(Feature_prediction)"
   ]
  },
  {
   "cell_type": "code",
   "execution_count": 36,
   "id": "db831281",
   "metadata": {},
   "outputs": [
    {
     "data": {
      "text/plain": [
       "<AxesSubplot:>"
      ]
     },
     "execution_count": 36,
     "metadata": {},
     "output_type": "execute_result"
    },
    {
     "data": {
      "image/png": "[encoded data removed]",
      "text/plain": [
       "<Figure size 864x360 with 1 Axes>"
      ]
     },
     "metadata": {
      "needs_background": "light"
     },
     "output_type": "display_data"
    }
   ],
   "source": [
    "# Feature_prediction.plot(legend=True, figsize=(12,5))\n",
    "Feature_prediction.plot(legend=True, figsize=(12,5))"
   ]
  },
  {
   "cell_type": "code",
   "execution_count": null,
   "id": "e1e36635",
   "metadata": {},
   "outputs": [],
   "source": []
  }
 ],
 "metadata": {
  "kernelspec": {
   "display_name": "Python 3 (ipykernel)",
   "language": "python",
   "name": "python3"
  },
  "language_info": {
   "codemirror_mode": {
    "name": "ipython",
    "version": 3
   },
   "file_extension": ".py",
   "mimetype": "text/x-python",
   "name": "python",
   "nbconvert_exporter": "python",
   "pygments_lexer": "ipython3",
   "version": "3.9.12"
  }
 },
 "nbformat": 4,
 "nbformat_minor": 5
}
